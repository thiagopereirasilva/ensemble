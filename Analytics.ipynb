{
 "cells": [
  {
   "cell_type": "markdown",
   "id": "a612dd70-202a-44f2-bfa4-88537143ab98",
   "metadata": {},
   "source": [
    "# Description\n",
    "\n"
   ]
  },
  {
   "cell_type": "markdown",
   "id": "double-projector",
   "metadata": {},
   "source": [
    "## Load CSV Data"
   ]
  },
  {
   "cell_type": "code",
   "execution_count": 1,
   "id": "pursuant-capability",
   "metadata": {},
   "outputs": [],
   "source": [
    "from IPython.display import display\n",
    "import pandas as pd\n",
    "import numpy as np\n",
    "import matplotlib.pyplot as plt\n",
    "import os\n",
    "\n",
    "# path_results = \"logs/FriedmanDrift/1000000\"\n",
    "# path_results = \"logs/Planes2D/1000000\"\n",
    "# path_results = \"logs/Friedman/1000000\"\n",
    "# path_results = \"logs/Bikes/182470\"\n",
    "# path_results = \"logs/Mv/1000000/\"\n",
    "# path_results = \"logs/Friedman/1000000\"\n",
    "# path_results ='logs/HouseholdPower/500000/'\n",
    "path_results = 'logs/CaliforniaHousing/20640/'\n",
    "\n",
    "# path_results_image = \"{}/Images\".format(path_results)\n",
    "\n",
    "# if not os.path.exists(path_results_image):\n",
    "#     os.makedirs(path_results_image)\n",
    "\n",
    "simulations = [\n",
    "    \"Linear Regression\",\n",
    "    \"Adaptive Random Forest\",\n",
    "    \"KNN Regression\",\n",
    "    \"EWA\",\n",
    "    \"Bagging\",\n",
    "    \"PAR Regression\",\n",
    "    # \"MLP Regression\",\n",
    "    \"HAT Regression\",\n",
    "    \"HT Regression\",\n",
    "    \"Logistic Regression\",\n",
    "    \"SRP\",\n",
    "    \"SGT\",\n",
    "    \"Ensemble\"\n",
    "]\n",
    "\n",
    "all_logs = []\n",
    "\n",
    "\n",
    "def load_data():\n",
    "    for s in simulations:\n",
    "        df = pd.read_csv('{}/{}.csv'.format(path_results, s), sep=',')\n",
    "\n",
    "        if 'Ensemble' == s:\n",
    "            df['Algorithm'] = 'Ensemble'\n",
    "        all_logs.append(df)\n",
    "        # print('/{}/{}.csv'.format(path_results, s))\n"
   ]
  },
  {
   "cell_type": "code",
   "execution_count": 2,
   "id": "9c2b4b98-4168-4d15-945b-25d5a9ed5232",
   "metadata": {},
   "outputs": [],
   "source": [
    "load_data()\n",
    "all_logs = pd.concat(all_logs)"
   ]
  },
  {
   "cell_type": "markdown",
   "id": "af64ccda",
   "metadata": {},
   "source": [
    "# Tabular Data"
   ]
  },
  {
   "cell_type": "code",
   "execution_count": 3,
   "id": "e8461119",
   "metadata": {},
   "outputs": [],
   "source": [
    "import prettytable\n",
    "from prettytable import PrettyTable\n",
    "\n",
    "# t = PrettyTable(['Algorithm','Avg time to predict', 'Avg time to train', 'MAE', 'MSE', 'R2', 'RMSE', 'SMAPE', 'Rolling_MAE', 'Rolling_MSE',\n",
    "#  'Rolling_R2', 'Rolling_RMSE', 'Rolling_SMAPE'])\n",
    "table = PrettyTable()\n",
    "table.add_column(\"\", ['Avg time to predict (ms)', 'Avg time to train (ms)', 'MAE', 'MSE', 'R2', 'RMSE', 'SMAPE', 'Rolling_MAE', 'Rolling_MSE',\n",
    "                  'Rolling_R2', 'Rolling_RMSE', 'Rolling_SMAPE'])\n",
    "\n",
    "algs = all_logs['Algorithm'].unique()\n",
    "for alg in algs:\n",
    "    df = all_logs[all_logs['Algorithm'] == alg]\n",
    "\n",
    "    # print(\"*{}*\".format(alg))\n",
    "    # print('\\tAvg time to predict (ms) =\\t {:.4f}'.format(df['Time2predict'].mean()))\n",
    "    # print('\\tAvg time to train (ms) =\\t {:.4f}'.format(df['Time2learn'].mean()))\n",
    "\n",
    "    # Get the first row of dataset\n",
    "    last_row = df.iloc[0]\n",
    "\n",
    "    # print('\\tMAE =\\t {:.4f}'.format(last_row['MAE']))\n",
    "    # print('\\tMSE =\\t {:.4f}'.format(last_row['MSE']))\n",
    "    # print('\\tR2 =\\t {:.4f}'.format(last_row['R2']))\n",
    "    # print('\\tRMSE =\\t {:.4f}'.format(last_row['RMSE']))\n",
    "    # print('\\tSMAPE =\\t {:.4f}'.format(last_row['SMAPE']))\n",
    "    # print('\\tRolling_MAE =\\t {:.4f}'.format(last_row['Rolling_MAE']))\n",
    "    # print('\\tRolling_MSE =\\t {:.4f}'.format(last_row['Rolling_MSE']))\n",
    "    # print('\\tRolling_R2 =\\t {:.4f}'.format(last_row['Rolling_R2']))\n",
    "    # print('\\tRolling_RMSE =\\t {:.4f}'.format(last_row['Rolling_RMSE']))\n",
    "    # print('\\tRolling_SMAPE =\\t {:.4f}'.format(last_row['Rolling_SMAPE']))\n",
    "    # print()\n",
    " \n",
    "    table.add_column(alg, [df['Time2predict'].mean(), df['Time2learn'].mean(), last_row['MAE'], last_row['MSE'], last_row['R2'], last_row['RMSE'],\n",
    "                           last_row['SMAPE'], last_row['Rolling_MAE'], last_row['Rolling_MSE'], last_row['Rolling_R2'], last_row['Rolling_RMSE'], last_row['Rolling_SMAPE']])\n",
    "\n",
    "with open(path_results+'/Ensemble_Results.txt', 'w') as f:\n",
    "    print(table, file=f)\n"
   ]
  },
  {
   "cell_type": "markdown",
   "id": "d00fdfd8",
   "metadata": {},
   "source": [
    "## One plot per base model"
   ]
  },
  {
   "cell_type": "code",
   "execution_count": 4,
   "id": "6ebfc883",
   "metadata": {},
   "outputs": [],
   "source": [
    "# # This code plots one plot per Algorithm\n",
    "# import seaborn as sns\n",
    "# from matplotlib.ticker import PercentFormatter\n",
    "\n",
    "# algs = all_logs['Algorithm'].unique()\n",
    "# for alg in algs:\n",
    "#     # print(alg)\n",
    "#     dataframe = all_logs[all_logs['Algorithm'] == alg]\n",
    "\n",
    "#     plt.figure(figsize=(15, 7))\n",
    "#     sns.set(font_scale=1, style=\"whitegrid\")\n",
    "\n",
    "#     g = sns.lineplot(\n",
    "#         data=dataframe,\n",
    "#         x=\"Round\",\n",
    "#         y='MAE',\n",
    "#         # hue=\"VNF_Instance\",\n",
    "#         # hue_order=VNF_ordered_ID,\n",
    "#         markers=False,\n",
    "#         dashes=False,\n",
    "#         # style=\"VNF_Instance\",\n",
    "#         # ci=None\n",
    "#     )\n",
    "\n",
    "#     # g.set_xlabel(\"Time (ms)\", fontsize = 19)\n",
    "#     # g.set_ylabel(\"Mem Load (%)\", fontsize = 19)\n",
    "#     plt.title(\"Metric MAE - {}\".format(alg), fontsize=20)\n",
    "#     # g.axes.yaxis.set_major_formatter(PercentFormatter(1, symbol=\"%\"))\n",
    "\n",
    "#     # g.figure.savefig(fname='{}/Images/VNF_Mem_load-{}.png'.format(path_results, alg), transparent=False, pad_inches=0.3, bbox_inches='tight')\n"
   ]
  },
  {
   "cell_type": "markdown",
   "id": "80b41deb",
   "metadata": {},
   "source": [
    "# All Models used by Ensemble"
   ]
  },
  {
   "cell_type": "code",
   "execution_count": 5,
   "id": "b89ae30d",
   "metadata": {},
   "outputs": [
    {
     "name": "stdout",
     "output_type": "stream",
     "text": [
      "EWA                  20623\n",
      "KNN Regression          15\n",
      "Linear Regression        1\n",
      "Name: Algorithm, dtype: int64\n"
     ]
    },
    {
     "data": {
      "image/png": "[encoded data removed]",
      "text/plain": [
       "<Figure size 800x400 with 1 Axes>"
      ]
     },
     "metadata": {},
     "output_type": "display_data"
    }
   ],
   "source": [
    "import pandas as pd\n",
    "import numpy as np\n",
    "import matplotlib.pyplot as plt\n",
    "import seaborn as sns\n",
    "from matplotlib.ticker import PercentFormatter\n",
    "\n",
    "# Open just the ensemble dataframe\n",
    "ensemble_df = pd.read_csv(\n",
    "    '{}/{}.csv'.format(path_results, 'Ensemble'), sep=',')\n",
    "ensemble_df = ensemble_df[ensemble_df['Algorithm'] != 'MLP Regression']\n",
    "\n",
    "plt.figure(figsize=(8, 4))\n",
    "sns.set(font_scale=1, style=\"ticks\")\n",
    "ax = sns.scatterplot(\n",
    "    data=ensemble_df,\n",
    "    x=\"Round\",\n",
    "    y=\"Algorithm\",\n",
    "    hue=\"Algorithm\",\n",
    "    style=\"Algorithm\",\n",
    "    # sizes=(6, 10),\n",
    "    color=\".1\",\n",
    "    marker=\"+\",\n",
    "    legend=False\n",
    ")\n",
    "plt.legend([],[], frameon=False)\n",
    "# plt.title('Example Plot')\n",
    "\n",
    "plt.xlabel('Samples')\n",
    "plt.ylabel('Base Learners')\n",
    "print(ensemble_df['Algorithm'].value_counts())\n"
   ]
  },
  {
   "cell_type": "markdown",
   "id": "c3150c78",
   "metadata": {},
   "source": [
    "## All base model's Metrics in one plot\n",
    "Take care when using large datasets because this function takes long time."
   ]
  },
  {
   "cell_type": "code",
   "execution_count": 6,
   "id": "fdea1eb4",
   "metadata": {},
   "outputs": [
    {
     "ename": "ValueError",
     "evalue": "cannot reindex from a duplicate axis",
     "output_type": "error",
     "traceback": [
      "\u001b[0;31m---------------------------------------------------------------------------\u001b[0m",
      "\u001b[0;31mValueError\u001b[0m                                Traceback (most recent call last)",
      "Cell \u001b[0;32mIn [6], line 58\u001b[0m\n\u001b[1;32m     31\u001b[0m plt\u001b[39m.\u001b[39mfigure(figsize\u001b[39m=\u001b[39m(\u001b[39m8\u001b[39m, \u001b[39m4\u001b[39m))\n\u001b[1;32m     32\u001b[0m \u001b[39m# sns.set(font_scale=1, style=\"white\")\u001b[39;00m\n\u001b[1;32m     33\u001b[0m \n\u001b[1;32m     34\u001b[0m \u001b[39m# g = sns.lineplot(\u001b[39;00m\n\u001b[0;32m   (...)\u001b[0m\n\u001b[1;32m     55\u001b[0m \u001b[39m#     legend=True,\u001b[39;00m\n\u001b[1;32m     56\u001b[0m \u001b[39m# )\u001b[39;00m\n\u001b[0;32m---> 58\u001b[0m graph \u001b[39m=\u001b[39m sns\u001b[39m.\u001b[39;49mlineplot(\n\u001b[1;32m     59\u001b[0m     data\u001b[39m=\u001b[39;49mall_logs,\n\u001b[1;32m     60\u001b[0m     x\u001b[39m=\u001b[39;49m\u001b[39m\"\u001b[39;49m\u001b[39mRound\u001b[39;49m\u001b[39m\"\u001b[39;49m,\n\u001b[1;32m     61\u001b[0m     y\u001b[39m=\u001b[39;49m\u001b[39m'\u001b[39;49m\u001b[39mMAE\u001b[39;49m\u001b[39m'\u001b[39;49m,\n\u001b[1;32m     62\u001b[0m     hue\u001b[39m=\u001b[39;49m\u001b[39m\"\u001b[39;49m\u001b[39mAlgorithm\u001b[39;49m\u001b[39m\"\u001b[39;49m,\n\u001b[1;32m     63\u001b[0m     markers\u001b[39m=\u001b[39;49m\u001b[39mTrue\u001b[39;49;00m,\n\u001b[1;32m     64\u001b[0m     dashes\u001b[39m=\u001b[39;49m\u001b[39mTrue\u001b[39;49;00m,\n\u001b[1;32m     65\u001b[0m     estimator\u001b[39m=\u001b[39;49m\u001b[39mNone\u001b[39;49;00m,\n\u001b[1;32m     66\u001b[0m     lw\u001b[39m=\u001b[39;49m\u001b[39m5\u001b[39;49m,\n\u001b[1;32m     67\u001b[0m     legend\u001b[39m=\u001b[39;49m\u001b[39mFalse\u001b[39;49;00m,\n\u001b[1;32m     68\u001b[0m )\n\u001b[1;32m     72\u001b[0m graph\u001b[39m.\u001b[39maxvline(\u001b[39m50000\u001b[39m, color\u001b[39m=\u001b[39m\u001b[39m'\u001b[39m\u001b[39mred\u001b[39m\u001b[39m'\u001b[39m, linewidth\u001b[39m=\u001b[39m\u001b[39m0.9\u001b[39m)\n\u001b[1;32m     73\u001b[0m graph\u001b[39m.\u001b[39maxvline(\u001b[39m100000\u001b[39m, color\u001b[39m=\u001b[39m\u001b[39m'\u001b[39m\u001b[39mred\u001b[39m\u001b[39m'\u001b[39m, linewidth\u001b[39m=\u001b[39m\u001b[39m0.9\u001b[39m)\n",
      "File \u001b[0;32m~/Desktop/ensemble/venv/lib/python3.8/site-packages/seaborn/relational.py:645\u001b[0m, in \u001b[0;36mlineplot\u001b[0;34m(data, x, y, hue, size, style, units, palette, hue_order, hue_norm, sizes, size_order, size_norm, dashes, markers, style_order, estimator, errorbar, n_boot, seed, orient, sort, err_style, err_kws, legend, ci, ax, **kwargs)\u001b[0m\n\u001b[1;32m    642\u001b[0m color \u001b[39m=\u001b[39m kwargs\u001b[39m.\u001b[39mpop(\u001b[39m\"\u001b[39m\u001b[39mcolor\u001b[39m\u001b[39m\"\u001b[39m, kwargs\u001b[39m.\u001b[39mpop(\u001b[39m\"\u001b[39m\u001b[39mc\u001b[39m\u001b[39m\"\u001b[39m, \u001b[39mNone\u001b[39;00m))\n\u001b[1;32m    643\u001b[0m kwargs[\u001b[39m\"\u001b[39m\u001b[39mcolor\u001b[39m\u001b[39m\"\u001b[39m] \u001b[39m=\u001b[39m _default_color(ax\u001b[39m.\u001b[39mplot, hue, color, kwargs)\n\u001b[0;32m--> 645\u001b[0m p\u001b[39m.\u001b[39;49mplot(ax, kwargs)\n\u001b[1;32m    646\u001b[0m \u001b[39mreturn\u001b[39;00m ax\n",
      "File \u001b[0;32m~/Desktop/ensemble/venv/lib/python3.8/site-packages/seaborn/relational.py:423\u001b[0m, in \u001b[0;36m_LinePlotter.plot\u001b[0;34m(self, ax, kws)\u001b[0m\n\u001b[1;32m    415\u001b[0m \u001b[39m# TODO How to handle NA? We don't want NA to propagate through to the\u001b[39;00m\n\u001b[1;32m    416\u001b[0m \u001b[39m# estimate/CI when some values are present, but we would also like\u001b[39;00m\n\u001b[1;32m    417\u001b[0m \u001b[39m# matplotlib to show \"gaps\" in the line when all values are missing.\u001b[39;00m\n\u001b[0;32m   (...)\u001b[0m\n\u001b[1;32m    420\u001b[0m \n\u001b[1;32m    421\u001b[0m \u001b[39m# Loop over the semantic subsets and add to the plot\u001b[39;00m\n\u001b[1;32m    422\u001b[0m grouping_vars \u001b[39m=\u001b[39m \u001b[39m\"\u001b[39m\u001b[39mhue\u001b[39m\u001b[39m\"\u001b[39m, \u001b[39m\"\u001b[39m\u001b[39msize\u001b[39m\u001b[39m\"\u001b[39m, \u001b[39m\"\u001b[39m\u001b[39mstyle\u001b[39m\u001b[39m\"\u001b[39m\n\u001b[0;32m--> 423\u001b[0m \u001b[39mfor\u001b[39;00m sub_vars, sub_data \u001b[39min\u001b[39;00m \u001b[39mself\u001b[39m\u001b[39m.\u001b[39miter_data(grouping_vars, from_comp_data\u001b[39m=\u001b[39m\u001b[39mTrue\u001b[39;00m):\n\u001b[1;32m    425\u001b[0m     \u001b[39mif\u001b[39;00m \u001b[39mself\u001b[39m\u001b[39m.\u001b[39msort:\n\u001b[1;32m    426\u001b[0m         sort_vars \u001b[39m=\u001b[39m [\u001b[39m\"\u001b[39m\u001b[39munits\u001b[39m\u001b[39m\"\u001b[39m, orient, other]\n",
      "File \u001b[0;32m~/Desktop/ensemble/venv/lib/python3.8/site-packages/seaborn/_oldcore.py:1028\u001b[0m, in \u001b[0;36mVectorPlotter.iter_data\u001b[0;34m(self, grouping_vars, reverse, from_comp_data, by_facet, allow_empty, dropna)\u001b[0m\n\u001b[1;32m   1023\u001b[0m grouping_vars \u001b[39m=\u001b[39m [\n\u001b[1;32m   1024\u001b[0m     var \u001b[39mfor\u001b[39;00m var \u001b[39min\u001b[39;00m grouping_vars \u001b[39mif\u001b[39;00m var \u001b[39min\u001b[39;00m \u001b[39mself\u001b[39m\u001b[39m.\u001b[39mvariables\n\u001b[1;32m   1025\u001b[0m ]\n\u001b[1;32m   1027\u001b[0m \u001b[39mif\u001b[39;00m from_comp_data:\n\u001b[0;32m-> 1028\u001b[0m     data \u001b[39m=\u001b[39m \u001b[39mself\u001b[39;49m\u001b[39m.\u001b[39;49mcomp_data\n\u001b[1;32m   1029\u001b[0m \u001b[39melse\u001b[39;00m:\n\u001b[1;32m   1030\u001b[0m     data \u001b[39m=\u001b[39m \u001b[39mself\u001b[39m\u001b[39m.\u001b[39mplot_data\n",
      "File \u001b[0;32m~/Desktop/ensemble/venv/lib/python3.8/site-packages/seaborn/_oldcore.py:1134\u001b[0m, in \u001b[0;36mVectorPlotter.comp_data\u001b[0;34m(self)\u001b[0m\n\u001b[1;32m   1132\u001b[0m         \u001b[39melse\u001b[39;00m:\n\u001b[1;32m   1133\u001b[0m             comp_col \u001b[39m=\u001b[39m pd\u001b[39m.\u001b[39mSeries(dtype\u001b[39m=\u001b[39m\u001b[39mfloat\u001b[39m, name\u001b[39m=\u001b[39mvar)\n\u001b[0;32m-> 1134\u001b[0m         comp_data\u001b[39m.\u001b[39;49minsert(\u001b[39m0\u001b[39;49m, var, comp_col)\n\u001b[1;32m   1136\u001b[0m     \u001b[39mself\u001b[39m\u001b[39m.\u001b[39m_comp_data \u001b[39m=\u001b[39m comp_data\n\u001b[1;32m   1138\u001b[0m \u001b[39mreturn\u001b[39;00m \u001b[39mself\u001b[39m\u001b[39m.\u001b[39m_comp_data\n",
      "File \u001b[0;32m~/Desktop/ensemble/venv/lib/python3.8/site-packages/pandas/core/frame.py:4418\u001b[0m, in \u001b[0;36mDataFrame.insert\u001b[0;34m(self, loc, column, value, allow_duplicates)\u001b[0m\n\u001b[1;32m   4415\u001b[0m \u001b[39mif\u001b[39;00m \u001b[39mnot\u001b[39;00m \u001b[39misinstance\u001b[39m(loc, \u001b[39mint\u001b[39m):\n\u001b[1;32m   4416\u001b[0m     \u001b[39mraise\u001b[39;00m \u001b[39mTypeError\u001b[39;00m(\u001b[39m\"\u001b[39m\u001b[39mloc must be int\u001b[39m\u001b[39m\"\u001b[39m)\n\u001b[0;32m-> 4418\u001b[0m value \u001b[39m=\u001b[39m \u001b[39mself\u001b[39;49m\u001b[39m.\u001b[39;49m_sanitize_column(value)\n\u001b[1;32m   4419\u001b[0m \u001b[39mself\u001b[39m\u001b[39m.\u001b[39m_mgr\u001b[39m.\u001b[39minsert(loc, column, value)\n",
      "File \u001b[0;32m~/Desktop/ensemble/venv/lib/python3.8/site-packages/pandas/core/frame.py:4506\u001b[0m, in \u001b[0;36mDataFrame._sanitize_column\u001b[0;34m(self, value)\u001b[0m\n\u001b[1;32m   4504\u001b[0m \u001b[39m# We should never get here with DataFrame value\u001b[39;00m\n\u001b[1;32m   4505\u001b[0m \u001b[39mif\u001b[39;00m \u001b[39misinstance\u001b[39m(value, Series):\n\u001b[0;32m-> 4506\u001b[0m     \u001b[39mreturn\u001b[39;00m _reindex_for_setitem(value, \u001b[39mself\u001b[39;49m\u001b[39m.\u001b[39;49mindex)\n\u001b[1;32m   4508\u001b[0m \u001b[39mif\u001b[39;00m is_list_like(value):\n\u001b[1;32m   4509\u001b[0m     com\u001b[39m.\u001b[39mrequire_length_match(value, \u001b[39mself\u001b[39m\u001b[39m.\u001b[39mindex)\n",
      "File \u001b[0;32m~/Desktop/ensemble/venv/lib/python3.8/site-packages/pandas/core/frame.py:10780\u001b[0m, in \u001b[0;36m_reindex_for_setitem\u001b[0;34m(value, index)\u001b[0m\n\u001b[1;32m  10776\u001b[0m \u001b[39mexcept\u001b[39;00m \u001b[39mValueError\u001b[39;00m \u001b[39mas\u001b[39;00m err:\n\u001b[1;32m  10777\u001b[0m     \u001b[39m# raised in MultiIndex.from_tuples, see test_insert_error_msmgs\u001b[39;00m\n\u001b[1;32m  10778\u001b[0m     \u001b[39mif\u001b[39;00m \u001b[39mnot\u001b[39;00m value\u001b[39m.\u001b[39mindex\u001b[39m.\u001b[39mis_unique:\n\u001b[1;32m  10779\u001b[0m         \u001b[39m# duplicate axis\u001b[39;00m\n\u001b[0;32m> 10780\u001b[0m         \u001b[39mraise\u001b[39;00m err\n\u001b[1;32m  10782\u001b[0m     \u001b[39mraise\u001b[39;00m \u001b[39mTypeError\u001b[39;00m(\n\u001b[1;32m  10783\u001b[0m         \u001b[39m\"\u001b[39m\u001b[39mincompatible index of inserted column with frame index\u001b[39m\u001b[39m\"\u001b[39m\n\u001b[1;32m  10784\u001b[0m     ) \u001b[39mfrom\u001b[39;00m \u001b[39merr\u001b[39;00m\n\u001b[1;32m  10785\u001b[0m \u001b[39mreturn\u001b[39;00m reindexed_value\n",
      "File \u001b[0;32m~/Desktop/ensemble/venv/lib/python3.8/site-packages/pandas/core/frame.py:10775\u001b[0m, in \u001b[0;36m_reindex_for_setitem\u001b[0;34m(value, index)\u001b[0m\n\u001b[1;32m  10773\u001b[0m \u001b[39m# GH#4107\u001b[39;00m\n\u001b[1;32m  10774\u001b[0m \u001b[39mtry\u001b[39;00m:\n\u001b[0;32m> 10775\u001b[0m     reindexed_value \u001b[39m=\u001b[39m value\u001b[39m.\u001b[39;49mreindex(index)\u001b[39m.\u001b[39m_values\n\u001b[1;32m  10776\u001b[0m \u001b[39mexcept\u001b[39;00m \u001b[39mValueError\u001b[39;00m \u001b[39mas\u001b[39;00m err:\n\u001b[1;32m  10777\u001b[0m     \u001b[39m# raised in MultiIndex.from_tuples, see test_insert_error_msmgs\u001b[39;00m\n\u001b[1;32m  10778\u001b[0m     \u001b[39mif\u001b[39;00m \u001b[39mnot\u001b[39;00m value\u001b[39m.\u001b[39mindex\u001b[39m.\u001b[39mis_unique:\n\u001b[1;32m  10779\u001b[0m         \u001b[39m# duplicate axis\u001b[39;00m\n",
      "File \u001b[0;32m~/Desktop/ensemble/venv/lib/python3.8/site-packages/pandas/core/series.py:4580\u001b[0m, in \u001b[0;36mSeries.reindex\u001b[0;34m(self, index, **kwargs)\u001b[0m\n\u001b[1;32m   4572\u001b[0m \u001b[39m@doc\u001b[39m(\n\u001b[1;32m   4573\u001b[0m     NDFrame\u001b[39m.\u001b[39mreindex,  \u001b[39m# type: ignore[has-type]\u001b[39;00m\n\u001b[1;32m   4574\u001b[0m     klass\u001b[39m=\u001b[39m_shared_doc_kwargs[\u001b[39m\"\u001b[39m\u001b[39mklass\u001b[39m\u001b[39m\"\u001b[39m],\n\u001b[0;32m   (...)\u001b[0m\n\u001b[1;32m   4578\u001b[0m )\n\u001b[1;32m   4579\u001b[0m \u001b[39mdef\u001b[39;00m \u001b[39mreindex\u001b[39m(\u001b[39mself\u001b[39m, index\u001b[39m=\u001b[39m\u001b[39mNone\u001b[39;00m, \u001b[39m*\u001b[39m\u001b[39m*\u001b[39mkwargs):\n\u001b[0;32m-> 4580\u001b[0m     \u001b[39mreturn\u001b[39;00m \u001b[39msuper\u001b[39;49m()\u001b[39m.\u001b[39;49mreindex(index\u001b[39m=\u001b[39;49mindex, \u001b[39m*\u001b[39;49m\u001b[39m*\u001b[39;49mkwargs)\n",
      "File \u001b[0;32m~/Desktop/ensemble/venv/lib/python3.8/site-packages/pandas/core/generic.py:4818\u001b[0m, in \u001b[0;36mNDFrame.reindex\u001b[0;34m(self, *args, **kwargs)\u001b[0m\n\u001b[1;32m   4815\u001b[0m     \u001b[39mreturn\u001b[39;00m \u001b[39mself\u001b[39m\u001b[39m.\u001b[39m_reindex_multi(axes, copy, fill_value)\n\u001b[1;32m   4817\u001b[0m \u001b[39m# perform the reindex on the axes\u001b[39;00m\n\u001b[0;32m-> 4818\u001b[0m \u001b[39mreturn\u001b[39;00m \u001b[39mself\u001b[39;49m\u001b[39m.\u001b[39;49m_reindex_axes(\n\u001b[1;32m   4819\u001b[0m     axes, level, limit, tolerance, method, fill_value, copy\n\u001b[1;32m   4820\u001b[0m )\u001b[39m.\u001b[39m__finalize__(\u001b[39mself\u001b[39m, method\u001b[39m=\u001b[39m\u001b[39m\"\u001b[39m\u001b[39mreindex\u001b[39m\u001b[39m\"\u001b[39m)\n",
      "File \u001b[0;32m~/Desktop/ensemble/venv/lib/python3.8/site-packages/pandas/core/generic.py:4839\u001b[0m, in \u001b[0;36mNDFrame._reindex_axes\u001b[0;34m(self, axes, level, limit, tolerance, method, fill_value, copy)\u001b[0m\n\u001b[1;32m   4834\u001b[0m     new_index, indexer \u001b[39m=\u001b[39m ax\u001b[39m.\u001b[39mreindex(\n\u001b[1;32m   4835\u001b[0m         labels, level\u001b[39m=\u001b[39mlevel, limit\u001b[39m=\u001b[39mlimit, tolerance\u001b[39m=\u001b[39mtolerance, method\u001b[39m=\u001b[39mmethod\n\u001b[1;32m   4836\u001b[0m     )\n\u001b[1;32m   4838\u001b[0m     axis \u001b[39m=\u001b[39m \u001b[39mself\u001b[39m\u001b[39m.\u001b[39m_get_axis_number(a)\n\u001b[0;32m-> 4839\u001b[0m     obj \u001b[39m=\u001b[39m obj\u001b[39m.\u001b[39;49m_reindex_with_indexers(\n\u001b[1;32m   4840\u001b[0m         {axis: [new_index, indexer]},\n\u001b[1;32m   4841\u001b[0m         fill_value\u001b[39m=\u001b[39;49mfill_value,\n\u001b[1;32m   4842\u001b[0m         copy\u001b[39m=\u001b[39;49mcopy,\n\u001b[1;32m   4843\u001b[0m         allow_dups\u001b[39m=\u001b[39;49m\u001b[39mFalse\u001b[39;49;00m,\n\u001b[1;32m   4844\u001b[0m     )\n\u001b[1;32m   4846\u001b[0m \u001b[39mreturn\u001b[39;00m obj\n",
      "File \u001b[0;32m~/Desktop/ensemble/venv/lib/python3.8/site-packages/pandas/core/generic.py:4883\u001b[0m, in \u001b[0;36mNDFrame._reindex_with_indexers\u001b[0;34m(self, reindexers, fill_value, copy, allow_dups)\u001b[0m\n\u001b[1;32m   4880\u001b[0m     indexer \u001b[39m=\u001b[39m ensure_platform_int(indexer)\n\u001b[1;32m   4882\u001b[0m \u001b[39m# TODO: speed up on homogeneous DataFrame objects\u001b[39;00m\n\u001b[0;32m-> 4883\u001b[0m new_data \u001b[39m=\u001b[39m new_data\u001b[39m.\u001b[39;49mreindex_indexer(\n\u001b[1;32m   4884\u001b[0m     index,\n\u001b[1;32m   4885\u001b[0m     indexer,\n\u001b[1;32m   4886\u001b[0m     axis\u001b[39m=\u001b[39;49mbaxis,\n\u001b[1;32m   4887\u001b[0m     fill_value\u001b[39m=\u001b[39;49mfill_value,\n\u001b[1;32m   4888\u001b[0m     allow_dups\u001b[39m=\u001b[39;49mallow_dups,\n\u001b[1;32m   4889\u001b[0m     copy\u001b[39m=\u001b[39;49mcopy,\n\u001b[1;32m   4890\u001b[0m )\n\u001b[1;32m   4891\u001b[0m \u001b[39m# If we've made a copy once, no need to make another one\u001b[39;00m\n\u001b[1;32m   4892\u001b[0m copy \u001b[39m=\u001b[39m \u001b[39mFalse\u001b[39;00m\n",
      "File \u001b[0;32m~/Desktop/ensemble/venv/lib/python3.8/site-packages/pandas/core/internals/managers.py:670\u001b[0m, in \u001b[0;36mBaseBlockManager.reindex_indexer\u001b[0;34m(self, new_axis, indexer, axis, fill_value, allow_dups, copy, consolidate, only_slice)\u001b[0m\n\u001b[1;32m    668\u001b[0m \u001b[39m# some axes don't allow reindexing with dups\u001b[39;00m\n\u001b[1;32m    669\u001b[0m \u001b[39mif\u001b[39;00m \u001b[39mnot\u001b[39;00m allow_dups:\n\u001b[0;32m--> 670\u001b[0m     \u001b[39mself\u001b[39;49m\u001b[39m.\u001b[39;49maxes[axis]\u001b[39m.\u001b[39;49m_validate_can_reindex(indexer)\n\u001b[1;32m    672\u001b[0m \u001b[39mif\u001b[39;00m axis \u001b[39m>\u001b[39m\u001b[39m=\u001b[39m \u001b[39mself\u001b[39m\u001b[39m.\u001b[39mndim:\n\u001b[1;32m    673\u001b[0m     \u001b[39mraise\u001b[39;00m \u001b[39mIndexError\u001b[39;00m(\u001b[39m\"\u001b[39m\u001b[39mRequested axis not found in manager\u001b[39m\u001b[39m\"\u001b[39m)\n",
      "File \u001b[0;32m~/Desktop/ensemble/venv/lib/python3.8/site-packages/pandas/core/indexes/base.py:3785\u001b[0m, in \u001b[0;36mIndex._validate_can_reindex\u001b[0;34m(self, indexer)\u001b[0m\n\u001b[1;32m   3783\u001b[0m \u001b[39m# trying to reindex on an axis with duplicates\u001b[39;00m\n\u001b[1;32m   3784\u001b[0m \u001b[39mif\u001b[39;00m \u001b[39mnot\u001b[39;00m \u001b[39mself\u001b[39m\u001b[39m.\u001b[39m_index_as_unique \u001b[39mand\u001b[39;00m \u001b[39mlen\u001b[39m(indexer):\n\u001b[0;32m-> 3785\u001b[0m     \u001b[39mraise\u001b[39;00m \u001b[39mValueError\u001b[39;00m(\u001b[39m\"\u001b[39m\u001b[39mcannot reindex from a duplicate axis\u001b[39m\u001b[39m\"\u001b[39m)\n",
      "\u001b[0;31mValueError\u001b[0m: cannot reindex from a duplicate axis"
     ]
    },
    {
     "data": {
      "image/png": "[encoded data removed]",
      "text/plain": [
       "<Figure size 800x400 with 1 Axes>"
      ]
     },
     "metadata": {},
     "output_type": "display_data"
    }
   ],
   "source": [
    "# This code plots one plot per Algorithm\n",
    "import seaborn as sns\n",
    "from matplotlib.ticker import PercentFormatter\n",
    "# sns.set_style(\"whitegrid\")\n",
    "sns.set_style(\"ticks\")\n",
    "# all_logs['R2'] = np.where(all_logs['R2'] < 0, 0, all_logs['R2'])\n",
    "# all_logs['R2'] = all_logs['R2'].clip(lower=0)\n",
    "\n",
    "# temp_date = all_logs\n",
    "# temp_date['MAE'] = temp_date['MAE'].clip(lower=0, upper=3)\n",
    "# temp_date = temp_date[(temp_date['Algorithm'] == 'KNN Regression') |\n",
    "#                     #   (temp_date['Algorithm'] == 'HAT Regression') |\n",
    "#                     #   (temp_date['Algorithm'] == 'HT Regression') |\n",
    "#                       (temp_date['Algorithm'] == 'SGT')|\n",
    "#                       (temp_date['Algorithm'] == 'SRP')\n",
    "#                       ]\n",
    "# temp_date = temp_date[(temp_date['Round'] < 200000) &(temp_date['Round'] > 20000)]\n",
    "# temp_date2 = temp_date[temp_date['Algorithm'] == 'Logistic Regression']\n",
    "\n",
    "# SGT                       638254\n",
    "# SRP                       154691\n",
    "# HT Regression             142688\n",
    "# HAT Regression             62819\n",
    "# Adaptive Random Forest       568\n",
    "# KNN Regression               142\n",
    "# Bagging                      103\n",
    "# EWA                           28\n",
    "# Linear Regression              2\n",
    "\n",
    "\n",
    "plt.figure(figsize=(8, 4))\n",
    "# sns.set(font_scale=1, style=\"white\")\n",
    "\n",
    "# g = sns.lineplot(\n",
    "#     data=temp_date2,\n",
    "#     x=\"Round\",\n",
    "#     y='MAE',\n",
    "#     hue=\"Algorithm\",\n",
    "#     markers=True,\n",
    "#     dashes=False,\n",
    "#     estimator=None,\n",
    "#     lw=4,\n",
    "#     legend=False,\n",
    "#     sizes=(.25, 2.5),\n",
    "# )\n",
    "# graph = sns.lineplot(\n",
    "#     data=temp_date,\n",
    "#     x=\"Round\",\n",
    "#     y='Rolling_MAE',\n",
    "#     hue=\"Algorithm\",\n",
    "#     markers=True,\n",
    "#     dashes=False,\n",
    "#     estimator=None,\n",
    "#     lw=0.2,\n",
    "#     legend=True,\n",
    "# )\n",
    "\n",
    "graph = sns.lineplot(\n",
    "    data=all_logs,\n",
    "    x=\"Round\",\n",
    "    y='MAE',\n",
    "    hue=\"Algorithm\",\n",
    "    markers=True,\n",
    "    dashes=True,\n",
    "    estimator=None,\n",
    "    lw=5,\n",
    "    legend=False,\n",
    ")\n",
    "\n",
    "\n",
    "\n",
    "graph.axvline(50000, color='red', linewidth=0.9)\n",
    "graph.axvline(100000, color='red', linewidth=0.9)\n",
    "graph.axvline(150000, color='red', linewidth=0.9)\n",
    "\n",
    "plt.xlabel('Samples')\n",
    "plt.ylabel('Rolling MAE')\n",
    "# plt.legend(loc='upper left', labels=[\n",
    "        #    'LogR MAE', 'KNN-R Rolling MAE', 'HAT-T Rolling MAE', 'HT-R Rolling MAE', 'LogR Rolling MAE'])\n",
    "# sns.despine(offset=-100, trim=False)"
   ]
  },
  {
   "cell_type": "markdown",
   "id": "8b5bbb50",
   "metadata": {},
   "source": [
    "## Subplots"
   ]
  },
  {
   "cell_type": "code",
   "execution_count": null,
   "id": "b1d1d512",
   "metadata": {},
   "outputs": [],
   "source": [
    "import numpy as np\n",
    "import pandas as pd\n",
    "import seaborn as sns\n",
    "import matplotlib.pyplot as plt\n",
    "import matplotlib.ticker as mtick\n",
    "from matplotlib.ticker import MaxNLocator\n",
    "from matplotlib.ticker import PercentFormatter\n",
    "import matplotlib.transforms as transforms\n",
    "from matplotlib.ticker import FuncFormatter\n",
    "\n",
    "sns.set(color_codes=True)\n",
    "\n",
    "fig, axs = plt.subplots(nrows=5, ncols=3)\n",
    "\n",
    "plt.subplots_adjust(left=None, bottom=None, right=None,\n",
    "                    top=None, wspace=0.2, hspace=0.7)\n",
    "col = 0\n",
    "\n",
    "fig.set_figheight(10)\n",
    "fig.set_figwidth(20)\n",
    "\n",
    "line = 0\n",
    "for simulation in simulations:\n",
    "    dataframe = all_logs[all_logs['Algorithm'] == simulation]\n",
    "    mean = dataframe['MSE'].mean()\n",
    "    ax = sns.lineplot(\n",
    "        data=dataframe,\n",
    "        x=\"Round\",\n",
    "        y='MSE',\n",
    "        # hue=\"Algorithm\",\n",
    "        dashes=False,\n",
    "        # style=\"Algorithm\",\n",
    "        ax=axs[line][col]\n",
    "    )\n",
    "    ax.axhline(mean, color='red', ls='--', linewidth=2, label='Mean')\n",
    "    trans = transforms.blended_transform_factory(\n",
    "        ax.get_yticklabels()[0].get_transform(), ax.transData)\n",
    "    ax.text(1, mean, \"{:.4f}\".format(mean), color=\"red\",\n",
    "            transform=trans, ha=\"right\", va=\"top\", weight=\"normal\", size=20)\n",
    "\n",
    "    ax.set_xlabel(\"Round\")\n",
    "    ax.set_ylabel(\"MSE\")\n",
    "\n",
    "    ax.set_title(\"{} \".format(simulation))\n",
    "    col += 1\n",
    "    if col == 3:\n",
    "        line += 1\n",
    "        col = 0\n",
    "\n",
    "# fig.delaxes(axs[1][1])\n",
    "\n",
    "# fig.suptitle(\"VNF Mem Load\", fontweight=\"bold\", fontsize=\"x-large\", y=0.95)\n",
    "plt.show()\n"
   ]
  }
 ],
 "metadata": {
  "kernelspec": {
   "display_name": "venv",
   "language": "python",
   "name": "python3"
  },
  "language_info": {
   "codemirror_mode": {
    "name": "ipython",
    "version": 3
   },
   "file_extension": ".py",
   "mimetype": "text/x-python",
   "name": "python",
   "nbconvert_exporter": "python",
   "pygments_lexer": "ipython3",
   "version": "3.8.10 (default, Nov 14 2022, 12:59:47) \n[GCC 9.4.0]"
  },
  "vscode": {
   "interpreter": {
    "hash": "b8a88c39ff67bdc4d9e6711c1151c1552340d86072667262aff357dfc58f1f9f"
   }
  }
 },
 "nbformat": 4,
 "nbformat_minor": 5
}
